{
 "cells": [
  {
   "cell_type": "code",
   "execution_count": 2,
   "id": "d23b9b42",
   "metadata": {},
   "outputs": [
    {
     "name": "stdout",
     "output_type": "stream",
     "text": [
      "Collecting numpy\n",
      "  Obtaining dependency information for numpy from https://files.pythonhosted.org/packages/bc/49/d5781eaa1a15acb3b3a3f49dc9e2ff18d92d0ce5c2976f4ab5c0a7360250/numpy-2.3.0-cp312-cp312-win_amd64.whl.metadata\n",
      "  Downloading numpy-2.3.0-cp312-cp312-win_amd64.whl.metadata (60 kB)\n",
      "     ---------------------------------------- 0.0/60.9 kB ? eta -:--:--\n",
      "     ------------ ------------------------- 20.5/60.9 kB 330.3 kB/s eta 0:00:01\n",
      "     ------------------------- ------------ 41.0/60.9 kB 393.8 kB/s eta 0:00:01\n",
      "     -------------------------------------- 60.9/60.9 kB 464.6 kB/s eta 0:00:00\n",
      "Downloading numpy-2.3.0-cp312-cp312-win_amd64.whl (12.7 MB)\n",
      "   ---------------------------------------- 0.0/12.7 MB ? eta -:--:--\n",
      "   - -------------------------------------- 0.4/12.7 MB 11.6 MB/s eta 0:00:02\n",
      "   --- ------------------------------------ 1.1/12.7 MB 13.8 MB/s eta 0:00:01\n",
      "   ---- ----------------------------------- 1.4/12.7 MB 11.0 MB/s eta 0:00:02\n",
      "   ----- ---------------------------------- 1.7/12.7 MB 9.6 MB/s eta 0:00:02\n",
      "   ------ --------------------------------- 1.9/12.7 MB 8.8 MB/s eta 0:00:02\n",
      "   ------- -------------------------------- 2.3/12.7 MB 8.5 MB/s eta 0:00:02\n",
      "   ------- -------------------------------- 2.5/12.7 MB 8.0 MB/s eta 0:00:02\n",
      "   -------- ------------------------------- 2.8/12.7 MB 7.8 MB/s eta 0:00:02\n",
      "   --------- ------------------------------ 3.1/12.7 MB 7.6 MB/s eta 0:00:02\n",
      "   ---------- ----------------------------- 3.4/12.7 MB 7.6 MB/s eta 0:00:02\n",
      "   ----------- ---------------------------- 3.8/12.7 MB 7.5 MB/s eta 0:00:02\n",
      "   ------------ --------------------------- 4.0/12.7 MB 7.4 MB/s eta 0:00:02\n",
      "   ------------- -------------------------- 4.3/12.7 MB 7.3 MB/s eta 0:00:02\n",
      "   -------------- ------------------------- 4.6/12.7 MB 7.2 MB/s eta 0:00:02\n",
      "   --------------- ------------------------ 4.9/12.7 MB 7.2 MB/s eta 0:00:02\n",
      "   ---------------- ----------------------- 5.2/12.7 MB 7.1 MB/s eta 0:00:02\n",
      "   ----------------- ---------------------- 5.4/12.7 MB 6.9 MB/s eta 0:00:02\n",
      "   ----------------- ---------------------- 5.6/12.7 MB 6.7 MB/s eta 0:00:02\n",
      "   ----------------- ---------------------- 5.7/12.7 MB 6.6 MB/s eta 0:00:02\n",
      "   ------------------ --------------------- 5.9/12.7 MB 6.5 MB/s eta 0:00:02\n",
      "   ------------------- -------------------- 6.2/12.7 MB 6.4 MB/s eta 0:00:02\n",
      "   -------------------- ------------------- 6.4/12.7 MB 6.3 MB/s eta 0:00:02\n",
      "   -------------------- ------------------- 6.6/12.7 MB 6.3 MB/s eta 0:00:01\n",
      "   --------------------- ------------------ 6.9/12.7 MB 6.3 MB/s eta 0:00:01\n",
      "   ---------------------- ----------------- 7.1/12.7 MB 6.3 MB/s eta 0:00:01\n",
      "   ----------------------- ---------------- 7.4/12.7 MB 6.2 MB/s eta 0:00:01\n",
      "   ------------------------ --------------- 7.8/12.7 MB 6.3 MB/s eta 0:00:01\n",
      "   ------------------------- -------------- 8.1/12.7 MB 6.3 MB/s eta 0:00:01\n",
      "   -------------------------- ------------- 8.4/12.7 MB 6.3 MB/s eta 0:00:01\n",
      "   --------------------------- ------------ 8.7/12.7 MB 6.4 MB/s eta 0:00:01\n",
      "   ---------------------------- ----------- 9.1/12.7 MB 6.4 MB/s eta 0:00:01\n",
      "   ----------------------------- ---------- 9.4/12.7 MB 6.5 MB/s eta 0:00:01\n",
      "   ------------------------------ --------- 9.6/12.7 MB 6.3 MB/s eta 0:00:01\n",
      "   ------------------------------- -------- 10.0/12.7 MB 6.4 MB/s eta 0:00:01\n",
      "   ------------------------------- -------- 10.1/12.7 MB 6.3 MB/s eta 0:00:01\n",
      "   -------------------------------- ------- 10.3/12.7 MB 6.2 MB/s eta 0:00:01\n",
      "   -------------------------------- ------- 10.4/12.7 MB 6.1 MB/s eta 0:00:01\n",
      "   -------------------------------- ------- 10.5/12.7 MB 6.0 MB/s eta 0:00:01\n",
      "   --------------------------------- ------ 10.5/12.7 MB 5.8 MB/s eta 0:00:01\n",
      "   --------------------------------- ------ 10.6/12.7 MB 5.6 MB/s eta 0:00:01\n",
      "   --------------------------------- ------ 10.7/12.7 MB 5.6 MB/s eta 0:00:01\n",
      "   --------------------------------- ------ 10.7/12.7 MB 5.5 MB/s eta 0:00:01\n",
      "   --------------------------------- ------ 10.8/12.7 MB 5.3 MB/s eta 0:00:01\n",
      "   ---------------------------------- ----- 10.9/12.7 MB 5.2 MB/s eta 0:00:01\n",
      "   ---------------------------------- ----- 10.9/12.7 MB 5.1 MB/s eta 0:00:01\n",
      "   ---------------------------------- ----- 11.0/12.7 MB 5.0 MB/s eta 0:00:01\n",
      "   ---------------------------------- ----- 11.1/12.7 MB 4.9 MB/s eta 0:00:01\n",
      "   ----------------------------------- ---- 11.2/12.7 MB 4.8 MB/s eta 0:00:01\n",
      "   ----------------------------------- ---- 11.3/12.7 MB 4.7 MB/s eta 0:00:01\n",
      "   ----------------------------------- ---- 11.4/12.7 MB 4.6 MB/s eta 0:00:01\n",
      "   ----------------------------------- ---- 11.4/12.7 MB 4.6 MB/s eta 0:00:01\n",
      "   ------------------------------------ --- 11.6/12.7 MB 4.5 MB/s eta 0:00:01\n",
      "   ------------------------------------ --- 11.6/12.7 MB 4.4 MB/s eta 0:00:01\n",
      "   ------------------------------------ --- 11.7/12.7 MB 4.4 MB/s eta 0:00:01\n",
      "   ------------------------------------- -- 11.8/12.7 MB 4.3 MB/s eta 0:00:01\n",
      "   ------------------------------------- -- 11.9/12.7 MB 4.3 MB/s eta 0:00:01\n",
      "   ------------------------------------- -- 11.9/12.7 MB 4.2 MB/s eta 0:00:01\n",
      "   ------------------------------------- -- 12.0/12.7 MB 4.1 MB/s eta 0:00:01\n",
      "   ------------------------------------- -- 12.1/12.7 MB 4.1 MB/s eta 0:00:01\n",
      "   -------------------------------------- - 12.1/12.7 MB 4.0 MB/s eta 0:00:01\n",
      "   -------------------------------------- - 12.2/12.7 MB 3.9 MB/s eta 0:00:01\n",
      "   -------------------------------------- - 12.3/12.7 MB 3.9 MB/s eta 0:00:01\n",
      "   -------------------------------------- - 12.4/12.7 MB 3.9 MB/s eta 0:00:01\n",
      "   ---------------------------------------  12.4/12.7 MB 3.8 MB/s eta 0:00:01\n",
      "   ---------------------------------------  12.5/12.7 MB 3.7 MB/s eta 0:00:01\n",
      "   ---------------------------------------  12.5/12.7 MB 3.7 MB/s eta 0:00:01\n",
      "   ---------------------------------------  12.6/12.7 MB 3.6 MB/s eta 0:00:01\n",
      "   ---------------------------------------  12.6/12.7 MB 3.6 MB/s eta 0:00:01\n",
      "   ---------------------------------------  12.7/12.7 MB 3.5 MB/s eta 0:00:01\n",
      "   ---------------------------------------- 12.7/12.7 MB 3.5 MB/s eta 0:00:00\n",
      "Installing collected packages: numpy\n",
      "Successfully installed numpy-2.3.0\n",
      "Note: you may need to restart the kernel to use updated packages.\n"
     ]
    },
    {
     "name": "stderr",
     "output_type": "stream",
     "text": [
      "  WARNING: The scripts f2py.exe and numpy-config.exe are installed in 'c:\\Users\\PRAJYOT UPADHYE\\AppData\\Local\\Programs\\Python\\Python312\\Scripts' which is not on PATH.\n",
      "  Consider adding this directory to PATH or, if you prefer to suppress this warning, use --no-warn-script-location.\n",
      "\n",
      "[notice] A new release of pip is available: 23.2.1 -> 25.1.1\n",
      "[notice] To update, run: python.exe -m pip install --upgrade pip\n"
     ]
    }
   ],
   "source": [
    "pip install numpy"
   ]
  },
  {
   "cell_type": "code",
   "execution_count": 3,
   "id": "bfc603d8",
   "metadata": {},
   "outputs": [],
   "source": [
    "import numpy as np\n"
   ]
  },
  {
   "cell_type": "code",
   "execution_count": 5,
   "id": "8bdc5cd6",
   "metadata": {},
   "outputs": [],
   "source": [
    "a=np.array(2)"
   ]
  },
  {
   "cell_type": "code",
   "execution_count": 6,
   "id": "474844a0",
   "metadata": {},
   "outputs": [
    {
     "data": {
      "text/plain": [
       "array(2)"
      ]
     },
     "execution_count": 6,
     "metadata": {},
     "output_type": "execute_result"
    }
   ],
   "source": [
    "a"
   ]
  },
  {
   "cell_type": "code",
   "execution_count": 9,
   "id": "320b4afa",
   "metadata": {},
   "outputs": [
    {
     "data": {
      "text/plain": [
       "0"
      ]
     },
     "execution_count": 9,
     "metadata": {},
     "output_type": "execute_result"
    }
   ],
   "source": [
    "a.ndim"
   ]
  },
  {
   "cell_type": "code",
   "execution_count": 7,
   "id": "170100b8",
   "metadata": {},
   "outputs": [],
   "source": [
    "arr=np.array([1,2,3,4])"
   ]
  },
  {
   "cell_type": "code",
   "execution_count": 8,
   "id": "e497fbec",
   "metadata": {},
   "outputs": [
    {
     "data": {
      "text/plain": [
       "array([1, 2, 3, 4])"
      ]
     },
     "execution_count": 8,
     "metadata": {},
     "output_type": "execute_result"
    }
   ],
   "source": [
    "arr\n"
   ]
  },
  {
   "cell_type": "code",
   "execution_count": 10,
   "id": "f916409a",
   "metadata": {},
   "outputs": [
    {
     "data": {
      "text/plain": [
       "1"
      ]
     },
     "execution_count": 10,
     "metadata": {},
     "output_type": "execute_result"
    }
   ],
   "source": [
    "arr.ndim"
   ]
  },
  {
   "cell_type": "code",
   "execution_count": 11,
   "id": "bbd18182",
   "metadata": {},
   "outputs": [],
   "source": [
    "mat=np.array([[1,2,3],[4,5,6],[7,8,9]])"
   ]
  },
  {
   "cell_type": "code",
   "execution_count": 12,
   "id": "563223c8",
   "metadata": {},
   "outputs": [
    {
     "data": {
      "text/plain": [
       "array([[1, 2, 3],\n",
       "       [4, 5, 6],\n",
       "       [7, 8, 9]])"
      ]
     },
     "execution_count": 12,
     "metadata": {},
     "output_type": "execute_result"
    }
   ],
   "source": [
    "mat"
   ]
  },
  {
   "cell_type": "code",
   "execution_count": 13,
   "id": "25a33766",
   "metadata": {},
   "outputs": [
    {
     "data": {
      "text/plain": [
       "2"
      ]
     },
     "execution_count": 13,
     "metadata": {},
     "output_type": "execute_result"
    }
   ],
   "source": [
    "mat.ndim"
   ]
  }
 ],
 "metadata": {
  "kernelspec": {
   "display_name": "Python 3",
   "language": "python",
   "name": "python3"
  },
  "language_info": {
   "codemirror_mode": {
    "name": "ipython",
    "version": 3
   },
   "file_extension": ".py",
   "mimetype": "text/x-python",
   "name": "python",
   "nbconvert_exporter": "python",
   "pygments_lexer": "ipython3",
   "version": "3.12.0"
  }
 },
 "nbformat": 4,
 "nbformat_minor": 5
}
